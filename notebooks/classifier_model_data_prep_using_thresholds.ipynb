{
 "cells": [
  {
   "cell_type": "code",
   "execution_count": 1,
   "id": "431c35ce",
   "metadata": {},
   "outputs": [],
   "source": [
    "from datetime import date, datetime\n",
    "from matplotlib import pyplot as plt\n",
    "from PIL import Image\n",
    "from sklearn.model_selection import train_test_split\n",
    "from torchxrayvision import datasets\n",
    "\n",
    "import csv\n",
    "import collections\n",
    "import os\n",
    "import pydicom\n",
    "import random\n",
    "import shutil\n",
    "\n",
    "\n",
    "import numpy as np\n",
    "import pandas as pd\n",
    "import torchvision.transforms as transforms"
   ]
  },
  {
   "cell_type": "code",
   "execution_count": 2,
   "id": "4427e88b",
   "metadata": {},
   "outputs": [],
   "source": [
    "pd.set_option(\"display.max_rows\", None)\n",
    "pd.set_option('display.max_columns', None)\n",
    "pd.set_option('display.width', None)"
   ]
  },
  {
   "cell_type": "code",
   "execution_count": 3,
   "id": "f49b4e39",
   "metadata": {},
   "outputs": [],
   "source": [
    "# Specify Project details\n",
    "\n",
    "INSTITUTION_NAME = r'TBP'\n",
    "PHENOTYPE = r'TB'\n",
    "TYPE_OF_DATA = r'CXR_METADATA'\n",
    "DATE = str(date.today())"
   ]
  },
  {
   "cell_type": "code",
   "execution_count": 5,
   "id": "4f27ea1f",
   "metadata": {},
   "outputs": [],
   "source": [
    "rifr_rifs = pd.read_csv(PROCESSED_DATA_PATH + \"TBP_TB_CXR_METADATA_rifr_rifs_ml_ready_2023-11-05.csv\")"
   ]
  },
  {
   "cell_type": "markdown",
   "id": "a553d99b",
   "metadata": {},
   "source": [
    "# overallpercentofabnormalvolume\n"
   ]
  },
  {
   "cell_type": "code",
   "execution_count": 7,
   "id": "2e078405",
   "metadata": {
    "scrolled": true
   },
   "outputs": [
    {
     "data": {
      "text/plain": [
       "20.0     335\n",
       "5.0      232\n",
       "10.0     227\n",
       "15.0     204\n",
       "35.0     197\n",
       "6.0      172\n",
       "8.0      169\n",
       "30.0     163\n",
       "16.0     160\n",
       "12.0     150\n",
       "25.0     126\n",
       "3.0      122\n",
       "40.0     116\n",
       "0.0      113\n",
       "14.0     110\n",
       "4.0      107\n",
       "17.0      97\n",
       "11.0      95\n",
       "7.0       86\n",
       "9.0       83\n",
       "18.0      77\n",
       "2.0       76\n",
       "60.0      75\n",
       "50.0      75\n",
       "70.0      74\n",
       "13.0      73\n",
       "22.0      68\n",
       "32.0      67\n",
       "34.0      67\n",
       "24.0      65\n",
       "45.0      62\n",
       "26.0      60\n",
       "28.0      53\n",
       "21.0      52\n",
       "19.0      51\n",
       "31.0      49\n",
       "1.0       48\n",
       "51.0      47\n",
       "23.0      46\n",
       "80.0      45\n",
       "38.0      42\n",
       "42.0      41\n",
       "48.0      40\n",
       "29.0      37\n",
       "27.0      36\n",
       "55.0      36\n",
       "64.0      36\n",
       "100.0     34\n",
       "36.0      32\n",
       "90.0      31\n",
       "44.0      31\n",
       "33.0      30\n",
       "46.0      27\n",
       "65.0      26\n",
       "75.0      26\n",
       "54.0      25\n",
       "52.0      25\n",
       "37.0      24\n",
       "39.0      22\n",
       "43.0      17\n",
       "76.0      16\n",
       "56.0      16\n",
       "95.0      15\n",
       "72.0      15\n",
       "74.0      15\n",
       "49.0      14\n",
       "85.0      14\n",
       "47.0      14\n",
       "68.0      13\n",
       "58.0      13\n",
       "41.0      13\n",
       "61.0      12\n",
       "53.0      12\n",
       "62.0      10\n",
       "67.0      10\n",
       "73.0       9\n",
       "83.0       9\n",
       "96.0       9\n",
       "57.0       8\n",
       "66.0       8\n",
       "82.0       8\n",
       "78.0       8\n",
       "59.0       8\n",
       "87.0       7\n",
       "86.0       7\n",
       "69.0       7\n",
       "88.0       6\n",
       "63.0       6\n",
       "92.0       6\n",
       "93.0       5\n",
       "84.0       5\n",
       "94.0       5\n",
       "81.0       5\n",
       "97.0       4\n",
       "89.0       4\n",
       "77.0       4\n",
       "71.0       3\n",
       "79.0       2\n",
       "98.0       2\n",
       "91.0       1\n",
       "99.0       1\n",
       "Name: overallpercentofabnormalvolume, dtype: int64"
      ]
     },
     "execution_count": 7,
     "metadata": {},
     "output_type": "execute_result"
    }
   ],
   "source": [
    "rifr_rifs.overallpercentofabnormalvolume.value_counts()  \n",
    "# Check how to distribute the data into training and test set based on this class distribution"
   ]
  },
  {
   "cell_type": "markdown",
   "id": "aca8ac93",
   "metadata": {},
   "source": [
    "# timika"
   ]
  },
  {
   "cell_type": "code",
   "execution_count": 8,
   "id": "a950fb34",
   "metadata": {},
   "outputs": [
    {
     "data": {
      "text/plain": [
       "20.0     279\n",
       "5.0      198\n",
       "10.0     182\n",
       "35.0     162\n",
       "15.0     161\n",
       "6.0      155\n",
       "8.0      148\n",
       "30.0     136\n",
       "16.0     128\n",
       "60.0     127\n",
       "12.0     123\n",
       "3.0      113\n",
       "0.0      113\n",
       "50.0     108\n",
       "40.0     102\n",
       "25.0     100\n",
       "4.0       97\n",
       "70.0      92\n",
       "14.0      88\n",
       "45.0      86\n",
       "17.0      81\n",
       "55.0      73\n",
       "2.0       71\n",
       "11.0      71\n",
       "9.0       68\n",
       "7.0       67\n",
       "51.0      67\n",
       "32.0      63\n",
       "18.0      63\n",
       "22.0      59\n",
       "75.0      59\n",
       "48.0      58\n",
       "13.0      57\n",
       "80.0      56\n",
       "24.0      55\n",
       "34.0      52\n",
       "26.0      50\n",
       "52.0      50\n",
       "65.0      49\n",
       "1.0       47\n",
       "56.0      46\n",
       "42.0      46\n",
       "54.0      45\n",
       "64.0      43\n",
       "28.0      43\n",
       "46.0      42\n",
       "21.0      42\n",
       "38.0      41\n",
       "23.0      40\n",
       "31.0      40\n",
       "90.0      39\n",
       "19.0      38\n",
       "100.0     37\n",
       "44.0      35\n",
       "29.0      33\n",
       "47.0      33\n",
       "36.0      30\n",
       "49.0      29\n",
       "53.0      28\n",
       "74.0      28\n",
       "33.0      27\n",
       "58.0      27\n",
       "27.0      27\n",
       "85.0      24\n",
       "57.0      24\n",
       "37.0      23\n",
       "68.0      22\n",
       "43.0      22\n",
       "95.0      21\n",
       "59.0      21\n",
       "61.0      21\n",
       "39.0      19\n",
       "66.0      18\n",
       "67.0      18\n",
       "62.0      18\n",
       "72.0      17\n",
       "76.0      16\n",
       "71.0      12\n",
       "41.0      12\n",
       "83.0      12\n",
       "73.0      12\n",
       "69.0      11\n",
       "96.0      11\n",
       "63.0      11\n",
       "84.0      10\n",
       "110.0      9\n",
       "88.0       9\n",
       "78.0       9\n",
       "94.0       7\n",
       "92.0       7\n",
       "82.0       7\n",
       "86.0       6\n",
       "87.0       6\n",
       "91.0       5\n",
       "79.0       5\n",
       "130.0      4\n",
       "97.0       4\n",
       "133.0      4\n",
       "77.0       4\n",
       "81.0       4\n",
       "89.0       4\n",
       "126.0      3\n",
       "121.0      3\n",
       "105.0      3\n",
       "120.0      3\n",
       "104.0      3\n",
       "116.0      2\n",
       "112.0      2\n",
       "98.0       2\n",
       "115.0      2\n",
       "114.0      2\n",
       "99.0       1\n",
       "93.0       1\n",
       "140.0      1\n",
       "101.0      1\n",
       "108.0      1\n",
       "132.0      1\n",
       "107.0      1\n",
       "122.0      1\n",
       "123.0      1\n",
       "124.0      1\n",
       "102.0      1\n",
       "103.0      1\n",
       "127.0      1\n",
       "117.0      1\n",
       "Name: timika, dtype: int64"
      ]
     },
     "execution_count": 8,
     "metadata": {},
     "output_type": "execute_result"
    }
   ],
   "source": [
    "rifr_rifs.timika.value_counts()  "
   ]
  },
  {
   "cell_type": "code",
   "execution_count": 9,
   "id": "a58b8567",
   "metadata": {},
   "outputs": [],
   "source": [
    "timika_score = rifr_rifs[['patient_id', 'timika']]\n",
    "pli = rifr_rifs[['patient_id', 'overallpercentofabnormalvolume']]"
   ]
  },
  {
   "cell_type": "code",
   "execution_count": 12,
   "id": "26c38432",
   "metadata": {},
   "outputs": [],
   "source": [
    "# Convert 'overallpercentofabnormalvolume' to numeric data type\n",
    "timika_score['timika'] = pd.to_numeric(timika_score['timika'], errors='coerce')\n",
    "pli['overallpercentofabnormalvolume'] = pd.to_numeric(pli['overallpercentofabnormalvolume'], errors='coerce')"
   ]
  },
  {
   "cell_type": "markdown",
   "id": "94a4a341",
   "metadata": {},
   "source": [
    "# PLI - Binary variable (using threshold: 25)"
   ]
  },
  {
   "cell_type": "code",
   "execution_count": 17,
   "id": "122096f7",
   "metadata": {},
   "outputs": [],
   "source": [
    "# Define the threshold for binary classification\n",
    "threshold = 25\n",
    "\n",
    "# Create a new binary variable 'binary_var'\n",
    "pli['binary_var'] = pli['overallpercentofabnormalvolume'].apply(lambda x: 1 if x >= threshold else 0)"
   ]
  },
  {
   "cell_type": "code",
   "execution_count": 18,
   "id": "96351314",
   "metadata": {},
   "outputs": [
    {
     "data": {
      "text/plain": [
       "0    3018\n",
       "1    2243\n",
       "Name: binary_var, dtype: int64"
      ]
     },
     "execution_count": 18,
     "metadata": {},
     "output_type": "execute_result"
    }
   ],
   "source": [
    "pli.binary_var.value_counts()"
   ]
  },
  {
   "cell_type": "markdown",
   "id": "5c7a4abb",
   "metadata": {},
   "source": [
    "# Timika - Binary variable (using threshold: 55)"
   ]
  },
  {
   "cell_type": "code",
   "execution_count": 19,
   "id": "b80ecf33",
   "metadata": {},
   "outputs": [],
   "source": [
    "# Define the threshold for binary classification\n",
    "threshold = 55\n",
    "\n",
    "# Create a new binary variable 'binary_var'\n",
    "timika_score['binary_var_55'] = timika_score['timika'].apply(lambda x: 1 if x >= threshold else 0)"
   ]
  },
  {
   "cell_type": "code",
   "execution_count": 20,
   "id": "0a3da0e5",
   "metadata": {},
   "outputs": [
    {
     "data": {
      "text/plain": [
       "0    4153\n",
       "1    1108\n",
       "Name: binary_var_55, dtype: int64"
      ]
     },
     "execution_count": 20,
     "metadata": {},
     "output_type": "execute_result"
    }
   ],
   "source": [
    "timika_score.binary_var_55.value_counts()"
   ]
  }
 ],
 "metadata": {
  "kernelspec": {
   "display_name": "Python 3 (ipykernel)",
   "language": "python",
   "name": "python3"
  },
  "language_info": {
   "codemirror_mode": {
    "name": "ipython",
    "version": 3
   },
   "file_extension": ".py",
   "mimetype": "text/x-python",
   "name": "python",
   "nbconvert_exporter": "python",
   "pygments_lexer": "ipython3",
   "version": "3.7.4"
  }
 },
 "nbformat": 4,
 "nbformat_minor": 5
}
