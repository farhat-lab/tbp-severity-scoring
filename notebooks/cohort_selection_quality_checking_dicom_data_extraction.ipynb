{
 "cells": [
  {
   "cell_type": "code",
   "execution_count": 5,
   "id": "c5c59ada",
   "metadata": {},
   "outputs": [],
   "source": [
    "from datetime import date, datetime\n",
    "from matplotlib import pyplot as plt\n",
    "\n",
    "import collections\n",
    "import csv\n",
    "import os\n",
    "import pickle\n",
    "import pydicom\n",
    "\n",
    "import matplotlib.pyplot as plt\n",
    "import numpy as np\n",
    "import pandas as pd"
   ]
  },
  {
   "cell_type": "code",
   "execution_count": 6,
   "id": "798ff61b",
   "metadata": {},
   "outputs": [],
   "source": [
    "pd.set_option(\"display.max_rows\", None)\n",
    "pd.set_option('display.max_columns', None)\n",
    "pd.set_option('display.width', None)"
   ]
  },
  {
   "cell_type": "code",
   "execution_count": 7,
   "id": "471f79cc",
   "metadata": {},
   "outputs": [],
   "source": [
    "# Specify Project details\n",
    "\n",
    "INSTITUTION_NAME = r'TBP'\n",
    "PHENOTYPE = r'TB'\n",
    "TYPE_OF_DATA = r'CXR_METADATA'\n",
    "DATE = str(date.today())"
   ]
  },
  {
   "cell_type": "code",
   "execution_count": 9,
   "id": "abe9f6b6",
   "metadata": {},
   "outputs": [],
   "source": [
    "cxr_metadata_df = pd.read_csv(CXR_DATA_PATH + \"TB_Portals_CXRs_August_2023.csv\", dtype = 'str')\n",
    "rif_sensitive_hiv_neg_baseline = pd.read_csv(PROCESSED_DATA_PATH + \"new_rifs_baseline_with-imagingstudy_id_10252023update.csv\", dtype = 'str')\n",
    "rif_resistant_hiv_neg_baseline = pd.read_csv(PROCESSED_DATA_PATH + \"new_rifr_baseline_with-imagingstudy_id_10252023update.csv\", dtype = 'str')"
   ]
  },
  {
   "cell_type": "code",
   "execution_count": 15,
   "id": "08a2a8d6",
   "metadata": {},
   "outputs": [],
   "source": [
    "def print_cohort_info(df):\n",
    "    \n",
    "    print(f\"Number of patients: {df.patient_id.nunique()}\")\n",
    "    print(f\"Number of records: {len(df)}\")\n",
    "    print(f\"Number of cxrs: {df.series_instance_content_url.nunique()}\")"
   ]
  },
  {
   "cell_type": "code",
   "execution_count": 16,
   "id": "fb7f5fa1",
   "metadata": {},
   "outputs": [
    {
     "name": "stdout",
     "output_type": "stream",
     "text": [
      "Number of patients: 8844\n",
      "Number of records: 10953\n",
      "Number of cxrs: 10953\n"
     ]
    }
   ],
   "source": [
    "print_cohort_info(cxr_metadata_df)"
   ]
  },
  {
   "cell_type": "code",
   "execution_count": 19,
   "id": "a33bd0d9",
   "metadata": {},
   "outputs": [],
   "source": [
    "cxr_metadata_df = cxr_metadata_df.drop_duplicates(subset=['patient_id', 'series_instance_content_url'], keep=False)"
   ]
  },
  {
   "cell_type": "code",
   "execution_count": 20,
   "id": "156ab0a9",
   "metadata": {},
   "outputs": [
    {
     "name": "stdout",
     "output_type": "stream",
     "text": [
      "Number of patients: 8844\n",
      "Number of records: 10953\n",
      "Number of cxrs: 10953\n"
     ]
    }
   ],
   "source": [
    "print_cohort_info(cxr_metadata_df)"
   ]
  },
  {
   "cell_type": "code",
   "execution_count": 22,
   "id": "a6f60961",
   "metadata": {},
   "outputs": [],
   "source": [
    "def print_num_cols(df):\n",
    "    cols = len(df.axes[1])\n",
    "    print(\"Number of Columns: \", cols)"
   ]
  },
  {
   "cell_type": "code",
   "execution_count": 23,
   "id": "e1c63e41",
   "metadata": {},
   "outputs": [
    {
     "name": "stdout",
     "output_type": "stream",
     "text": [
      "Number of Columns:  12\n"
     ]
    }
   ],
   "source": [
    "print_num_cols(rif_sensitive_hiv_neg_baseline)   # Outcome column removed in the new file"
   ]
  },
  {
   "cell_type": "code",
   "execution_count": 24,
   "id": "70a4872f",
   "metadata": {},
   "outputs": [
    {
     "name": "stdout",
     "output_type": "stream",
     "text": [
      "Number of Columns:  12\n"
     ]
    }
   ],
   "source": [
    "print_num_cols(rif_resistant_hiv_neg_baseline)"
   ]
  },
  {
   "cell_type": "code",
   "execution_count": 27,
   "id": "ad369771",
   "metadata": {},
   "outputs": [
    {
     "name": "stdout",
     "output_type": "stream",
     "text": [
      "Number of patients in rif_sensitive_hiv_neg_baseline: 3446\n",
      "Number of records in rif_sensitive_hiv_neg_baseline: 3446\n"
     ]
    }
   ],
   "source": [
    "print(f\"Number of patients in rif_sensitive_hiv_neg_baseline: {rif_sensitive_hiv_neg_baseline.patient_id.nunique()}\")\n",
    "print(f\"Number of records in rif_sensitive_hiv_neg_baseline: {len(rif_sensitive_hiv_neg_baseline)}\")"
   ]
  },
  {
   "cell_type": "code",
   "execution_count": 29,
   "id": "7e80bed5",
   "metadata": {},
   "outputs": [
    {
     "name": "stdout",
     "output_type": "stream",
     "text": [
      "Number of patients in rif_resistant_hiv_neg_baseline: 3767\n",
      "Number of records in rif_resistant_hiv_neg_baseline: 3767\n"
     ]
    }
   ],
   "source": [
    "print(f\"Number of patients in rif_resistant_hiv_neg_baseline: {rif_resistant_hiv_neg_baseline.patient_id.nunique()}\")\n",
    "print(f\"Number of records in rif_resistant_hiv_neg_baseline: {len(rif_resistant_hiv_neg_baseline)}\")"
   ]
  },
  {
   "cell_type": "code",
   "execution_count": 32,
   "id": "8d434a63",
   "metadata": {},
   "outputs": [],
   "source": [
    "cxr_metadata_df_copy = cxr_metadata_df.copy()"
   ]
  },
  {
   "cell_type": "code",
   "execution_count": 33,
   "id": "5f185c5b",
   "metadata": {},
   "outputs": [],
   "source": [
    "rif_resistant_hiv_neg_baseline_with_cxr = pd.merge(rif_resistant_hiv_neg_baseline, cxr_metadata_df_copy, how='inner', on=['patient_id', 'imagingstudy_id'])\n",
    "rif_sensitive_hiv_neg_baseline_with_cxr = pd.merge(rif_sensitive_hiv_neg_baseline, cxr_metadata_df_copy, how='inner', on=['patient_id', 'imagingstudy_id'])"
   ]
  },
  {
   "cell_type": "code",
   "execution_count": 34,
   "id": "8163790f",
   "metadata": {},
   "outputs": [
    {
     "name": "stdout",
     "output_type": "stream",
     "text": [
      "Number of patients: 3446\n",
      "Number of records: 3446\n",
      "Number of cxrs: 3446\n"
     ]
    }
   ],
   "source": [
    "print_cohort_info(rif_sensitive_hiv_neg_baseline_with_cxr)"
   ]
  },
  {
   "cell_type": "code",
   "execution_count": 36,
   "id": "3c39d71c",
   "metadata": {},
   "outputs": [
    {
     "name": "stdout",
     "output_type": "stream",
     "text": [
      "Number of patients: 3767\n",
      "Number of records: 3767\n",
      "Number of cxrs: 3767\n"
     ]
    }
   ],
   "source": [
    "print_cohort_info(rif_resistant_hiv_neg_baseline_with_cxr)"
   ]
  },
  {
   "cell_type": "code",
   "execution_count": 44,
   "id": "f05e95e3",
   "metadata": {},
   "outputs": [],
   "source": [
    "rif_resistant_hiv_neg_baseline_with_cxr = rif_resistant_hiv_neg_baseline_with_cxr[['patient_id', 'imagingstudy_id', \n",
    "                                                      'timika', 'overallpercentofabnormalvolume', 'large_cavity',\n",
    "                                                      'series_instance_content_url', 'cxr_outlier']]\n",
    "rif_sensitive_hiv_neg_baseline_with_cxr = rif_sensitive_hiv_neg_baseline_with_cxr[['patient_id', 'imagingstudy_id', \n",
    "                                                      'timika', 'overallpercentofabnormalvolume', 'large_cavity',\n",
    "                                                      'series_instance_content_url', 'cxr_outlier']]"
   ]
  },
  {
   "cell_type": "markdown",
   "id": "4e7e8c96",
   "metadata": {},
   "source": [
    "# Extract Pixel and Orientation Info"
   ]
  },
  {
   "cell_type": "code",
   "execution_count": 45,
   "id": "fb325273",
   "metadata": {},
   "outputs": [],
   "source": [
    "# Ask Drew how to get Patient Orientation info"
   ]
  },
  {
   "cell_type": "code",
   "execution_count": 46,
   "id": "5ef03a1a",
   "metadata": {
    "scrolled": false
   },
   "outputs": [],
   "source": [
    "def extract_pixel_and_orientation_info(cohort_df, all_dicoms_folder_path):\n",
    "    \n",
    "    images_path = []\n",
    "    for index, row in cohort_df.iterrows():\n",
    "        images_path.append(all_dicoms_folder_path + row['series_instance_content_url'])    \n",
    "    \n",
    "    df = pd.DataFrame()\n",
    "    \n",
    "    for image_path in images_path:\n",
    "        \n",
    "        \n",
    "        try:\n",
    "            dicom_file_dataset = pydicom.read_file(image_path, force=True)\n",
    "            Rows = dicom_file_dataset.Rows\n",
    "            Columns = dicom_file_dataset.Columns\n",
    "#             PatientOrientation = dicom_file_dataset.PatientOrientation\n",
    "            PhotometricInterpretation = dicom_file_dataset.PhotometricInterpretation\n",
    "            \n",
    "        except AttributeError:\n",
    "            Rows = np.nan\n",
    "#             PatientOrientation = np.nan\n",
    "            PhotometricInterpretation = np.nan\n",
    "            \n",
    "        except FileNotFoundError:\n",
    "            print(image_path)\n",
    "            \n",
    "            \n",
    "            \n",
    "        df = df.append(pd.DataFrame({'series_instance_content_url': image_path.replace(all_dicoms_folder_path, '').strip(), \n",
    "                                     'row_pixel_val': Rows,'column_pixel_val': Columns, \n",
    "#                                      'patient_orientation': PatientOrientation, \n",
    "                                     'photometric_interpretation': PhotometricInterpretation\n",
    "                                    }, index=[0]))\n",
    "        \n",
    "\n",
    "    return df"
   ]
  },
  {
   "cell_type": "code",
   "execution_count": 47,
   "id": "e2bb9a36",
   "metadata": {},
   "outputs": [],
   "source": [
    "rif_sensitive_hiv_neg_baseline_dicom_attr = extract_pixel_and_orientation_info(rif_sensitive_hiv_neg_baseline_with_cxr, CXR_IMAGE_PATH)\n",
    "rif_resistant_hiv_neg_baseline_dicom_attr = extract_pixel_and_orientation_info(rif_resistant_hiv_neg_baseline_with_cxr, CXR_IMAGE_PATH)"
   ]
  },
  {
   "cell_type": "code",
   "execution_count": 50,
   "id": "861c4fda",
   "metadata": {
    "scrolled": true
   },
   "outputs": [
    {
     "data": {
      "text/html": [
       "<div>\n",
       "<style scoped>\n",
       "    .dataframe tbody tr th:only-of-type {\n",
       "        vertical-align: middle;\n",
       "    }\n",
       "\n",
       "    .dataframe tbody tr th {\n",
       "        vertical-align: top;\n",
       "    }\n",
       "\n",
       "    .dataframe thead th {\n",
       "        text-align: right;\n",
       "    }\n",
       "</style>\n",
       "<table border=\"1\" class=\"dataframe\">\n",
       "  <thead>\n",
       "    <tr style=\"text-align: right;\">\n",
       "      <th></th>\n",
       "      <th>series_instance_content_url</th>\n",
       "      <th>row_pixel_val</th>\n",
       "      <th>column_pixel_val</th>\n",
       "      <th>photometric_interpretation</th>\n",
       "    </tr>\n",
       "  </thead>\n",
       "  <tbody>\n",
       "    <tr>\n",
       "      <th>0</th>\n",
       "      <td>0036983b-7577-487f-83d1-00522ed03ed5/2.25.1570...</td>\n",
       "      <td>1191</td>\n",
       "      <td>1173</td>\n",
       "      <td>MONOCHROME2</td>\n",
       "    </tr>\n",
       "    <tr>\n",
       "      <th>0</th>\n",
       "      <td>0064a99c-422f-4447-b462-cfb10f376446/1.2.410.2...</td>\n",
       "      <td>3268</td>\n",
       "      <td>2796</td>\n",
       "      <td>MONOCHROME2</td>\n",
       "    </tr>\n",
       "    <tr>\n",
       "      <th>0</th>\n",
       "      <td>006c7d01-3dd9-4c0c-91d1-2db4fe20594a/2.25.3055...</td>\n",
       "      <td>2935</td>\n",
       "      <td>3128</td>\n",
       "      <td>MONOCHROME2</td>\n",
       "    </tr>\n",
       "    <tr>\n",
       "      <th>0</th>\n",
       "      <td>0070e6ec-2727-4e74-80c9-fb7dc8b3430b/2.25.1354...</td>\n",
       "      <td>3032</td>\n",
       "      <td>3032</td>\n",
       "      <td>MONOCHROME2</td>\n",
       "    </tr>\n",
       "    <tr>\n",
       "      <th>0</th>\n",
       "      <td>009f6d9b-4ae3-47e3-bb7d-68bb961dd1c4/1.2.826.0...</td>\n",
       "      <td>4640</td>\n",
       "      <td>4210</td>\n",
       "      <td>MONOCHROME1</td>\n",
       "    </tr>\n",
       "  </tbody>\n",
       "</table>\n",
       "</div>"
      ],
      "text/plain": [
       "                         series_instance_content_url  row_pixel_val  \\\n",
       "0  0036983b-7577-487f-83d1-00522ed03ed5/2.25.1570...           1191   \n",
       "0  0064a99c-422f-4447-b462-cfb10f376446/1.2.410.2...           3268   \n",
       "0  006c7d01-3dd9-4c0c-91d1-2db4fe20594a/2.25.3055...           2935   \n",
       "0  0070e6ec-2727-4e74-80c9-fb7dc8b3430b/2.25.1354...           3032   \n",
       "0  009f6d9b-4ae3-47e3-bb7d-68bb961dd1c4/1.2.826.0...           4640   \n",
       "\n",
       "   column_pixel_val photometric_interpretation  \n",
       "0              1173                MONOCHROME2  \n",
       "0              2796                MONOCHROME2  \n",
       "0              3128                MONOCHROME2  \n",
       "0              3032                MONOCHROME2  \n",
       "0              4210                MONOCHROME1  "
      ]
     },
     "execution_count": 50,
     "metadata": {},
     "output_type": "execute_result"
    }
   ],
   "source": [
    "rif_sensitive_hiv_neg_baseline_dicom_attr.head()"
   ]
  },
  {
   "cell_type": "code",
   "execution_count": 51,
   "id": "af1dffb7",
   "metadata": {},
   "outputs": [
    {
     "data": {
      "text/plain": [
       "3446"
      ]
     },
     "execution_count": 51,
     "metadata": {},
     "output_type": "execute_result"
    }
   ],
   "source": [
    "len(rif_sensitive_hiv_neg_baseline_dicom_attr)"
   ]
  },
  {
   "cell_type": "code",
   "execution_count": 52,
   "id": "aae4b0a8",
   "metadata": {},
   "outputs": [
    {
     "data": {
      "text/html": [
       "<div>\n",
       "<style scoped>\n",
       "    .dataframe tbody tr th:only-of-type {\n",
       "        vertical-align: middle;\n",
       "    }\n",
       "\n",
       "    .dataframe tbody tr th {\n",
       "        vertical-align: top;\n",
       "    }\n",
       "\n",
       "    .dataframe thead th {\n",
       "        text-align: right;\n",
       "    }\n",
       "</style>\n",
       "<table border=\"1\" class=\"dataframe\">\n",
       "  <thead>\n",
       "    <tr style=\"text-align: right;\">\n",
       "      <th></th>\n",
       "      <th>series_instance_content_url</th>\n",
       "      <th>row_pixel_val</th>\n",
       "      <th>column_pixel_val</th>\n",
       "      <th>photometric_interpretation</th>\n",
       "    </tr>\n",
       "  </thead>\n",
       "  <tbody>\n",
       "    <tr>\n",
       "      <th>0</th>\n",
       "      <td>00069df2-2406-43b6-8c58-5f5e164c7e35/1.3.6.1.4...</td>\n",
       "      <td>2724</td>\n",
       "      <td>2248</td>\n",
       "      <td>MONOCHROME2</td>\n",
       "    </tr>\n",
       "    <tr>\n",
       "      <th>0</th>\n",
       "      <td>0045e42a-8d57-4e3a-8127-08a714ea3d4f/2.25.1838...</td>\n",
       "      <td>2227</td>\n",
       "      <td>2229</td>\n",
       "      <td>MONOCHROME2</td>\n",
       "    </tr>\n",
       "    <tr>\n",
       "      <th>0</th>\n",
       "      <td>0046f70e-395f-40bb-b3a7-57b3fe3e97d1/2.25.3401...</td>\n",
       "      <td>1024</td>\n",
       "      <td>1024</td>\n",
       "      <td>MONOCHROME2</td>\n",
       "    </tr>\n",
       "    <tr>\n",
       "      <th>0</th>\n",
       "      <td>00617d3b-7975-49e1-9b44-cadfcb01d739/1.2.840.1...</td>\n",
       "      <td>2248</td>\n",
       "      <td>2724</td>\n",
       "      <td>MONOCHROME2</td>\n",
       "    </tr>\n",
       "    <tr>\n",
       "      <th>0</th>\n",
       "      <td>00755090-59a8-4e4f-bc7d-451e1ec533f0/2.25.3083...</td>\n",
       "      <td>3106</td>\n",
       "      <td>3706</td>\n",
       "      <td>MONOCHROME2</td>\n",
       "    </tr>\n",
       "  </tbody>\n",
       "</table>\n",
       "</div>"
      ],
      "text/plain": [
       "                         series_instance_content_url  row_pixel_val  \\\n",
       "0  00069df2-2406-43b6-8c58-5f5e164c7e35/1.3.6.1.4...           2724   \n",
       "0  0045e42a-8d57-4e3a-8127-08a714ea3d4f/2.25.1838...           2227   \n",
       "0  0046f70e-395f-40bb-b3a7-57b3fe3e97d1/2.25.3401...           1024   \n",
       "0  00617d3b-7975-49e1-9b44-cadfcb01d739/1.2.840.1...           2248   \n",
       "0  00755090-59a8-4e4f-bc7d-451e1ec533f0/2.25.3083...           3106   \n",
       "\n",
       "   column_pixel_val photometric_interpretation  \n",
       "0              2248                MONOCHROME2  \n",
       "0              2229                MONOCHROME2  \n",
       "0              1024                MONOCHROME2  \n",
       "0              2724                MONOCHROME2  \n",
       "0              3706                MONOCHROME2  "
      ]
     },
     "execution_count": 52,
     "metadata": {},
     "output_type": "execute_result"
    }
   ],
   "source": [
    "rif_resistant_hiv_neg_baseline_dicom_attr.head()"
   ]
  },
  {
   "cell_type": "code",
   "execution_count": 53,
   "id": "f8d27c8b",
   "metadata": {},
   "outputs": [
    {
     "data": {
      "text/plain": [
       "3767"
      ]
     },
     "execution_count": 53,
     "metadata": {},
     "output_type": "execute_result"
    }
   ],
   "source": [
    "len(rif_resistant_hiv_neg_baseline_dicom_attr)"
   ]
  },
  {
   "cell_type": "code",
   "execution_count": 56,
   "id": "1b5feed4",
   "metadata": {},
   "outputs": [
    {
     "data": {
      "text/plain": [
       "MONOCHROME2    3216\n",
       "MONOCHROME1     230\n",
       "Name: photometric_interpretation, dtype: int64"
      ]
     },
     "execution_count": 56,
     "metadata": {},
     "output_type": "execute_result"
    }
   ],
   "source": [
    "rif_sensitive_hiv_neg_baseline_dicom_attr.photometric_interpretation.value_counts()"
   ]
  },
  {
   "cell_type": "code",
   "execution_count": 57,
   "id": "db5c98ee",
   "metadata": {},
   "outputs": [
    {
     "data": {
      "text/plain": [
       "MONOCHROME2    3635\n",
       "MONOCHROME1     132\n",
       "Name: photometric_interpretation, dtype: int64"
      ]
     },
     "execution_count": 57,
     "metadata": {},
     "output_type": "execute_result"
    }
   ],
   "source": [
    "rif_resistant_hiv_neg_baseline_dicom_attr.photometric_interpretation.value_counts()"
   ]
  },
  {
   "cell_type": "code",
   "execution_count": 59,
   "id": "77f8b98d",
   "metadata": {},
   "outputs": [],
   "source": [
    "rif_resistant = pd.merge(rif_resistant_hiv_neg_baseline_with_cxr, rif_resistant_hiv_neg_baseline_dicom_attr, how='inner', on=['series_instance_content_url'])\n",
    "rif_sensitive = pd.merge(rif_sensitive_hiv_neg_baseline_with_cxr, rif_sensitive_hiv_neg_baseline_dicom_attr, how='inner', on=['series_instance_content_url'])"
   ]
  },
  {
   "cell_type": "code",
   "execution_count": 61,
   "id": "98008a78",
   "metadata": {},
   "outputs": [
    {
     "data": {
      "text/plain": [
       "3767"
      ]
     },
     "execution_count": 61,
     "metadata": {},
     "output_type": "execute_result"
    }
   ],
   "source": [
    "len(rif_resistant)"
   ]
  },
  {
   "cell_type": "code",
   "execution_count": 65,
   "id": "23619341",
   "metadata": {},
   "outputs": [
    {
     "data": {
      "text/plain": [
       "3446"
      ]
     },
     "execution_count": 65,
     "metadata": {},
     "output_type": "execute_result"
    }
   ],
   "source": [
    "len(rif_sensitive)"
   ]
  },
  {
   "cell_type": "code",
   "execution_count": 66,
   "id": "756e0531",
   "metadata": {},
   "outputs": [],
   "source": [
    "columns_to_convert = ['timika', 'overallpercentofabnormalvolume', 'large_cavity', 'row_pixel_val', 'column_pixel_val']"
   ]
  },
  {
   "cell_type": "code",
   "execution_count": 67,
   "id": "b629c13a",
   "metadata": {},
   "outputs": [],
   "source": [
    "rif_resistant[columns_to_convert] = rif_resistant[columns_to_convert].apply(pd.to_numeric)\n",
    "rif_sensitive[columns_to_convert] = rif_sensitive[columns_to_convert].apply(pd.to_numeric)"
   ]
  },
  {
   "cell_type": "code",
   "execution_count": 68,
   "id": "f7a49ac6",
   "metadata": {},
   "outputs": [
    {
     "data": {
      "text/html": [
       "<div>\n",
       "<style scoped>\n",
       "    .dataframe tbody tr th:only-of-type {\n",
       "        vertical-align: middle;\n",
       "    }\n",
       "\n",
       "    .dataframe tbody tr th {\n",
       "        vertical-align: top;\n",
       "    }\n",
       "\n",
       "    .dataframe thead th {\n",
       "        text-align: right;\n",
       "    }\n",
       "</style>\n",
       "<table border=\"1\" class=\"dataframe\">\n",
       "  <thead>\n",
       "    <tr style=\"text-align: right;\">\n",
       "      <th></th>\n",
       "      <th>overallpercentofabnormalvolume</th>\n",
       "      <th>timika</th>\n",
       "      <th>large_cavity</th>\n",
       "    </tr>\n",
       "  </thead>\n",
       "  <tbody>\n",
       "    <tr>\n",
       "      <th>min</th>\n",
       "      <td>0.0</td>\n",
       "      <td>0.0</td>\n",
       "      <td>0.0</td>\n",
       "    </tr>\n",
       "    <tr>\n",
       "      <th>max</th>\n",
       "      <td>100.0</td>\n",
       "      <td>140.0</td>\n",
       "      <td>1.0</td>\n",
       "    </tr>\n",
       "  </tbody>\n",
       "</table>\n",
       "</div>"
      ],
      "text/plain": [
       "     overallpercentofabnormalvolume  timika  large_cavity\n",
       "min                             0.0     0.0           0.0\n",
       "max                           100.0   140.0           1.0"
      ]
     },
     "execution_count": 68,
     "metadata": {},
     "output_type": "execute_result"
    }
   ],
   "source": [
    "rif_sensitive[['overallpercentofabnormalvolume','timika', 'large_cavity']].agg(['min','max'])"
   ]
  },
  {
   "cell_type": "code",
   "execution_count": 69,
   "id": "d0ffd91d",
   "metadata": {},
   "outputs": [
    {
     "data": {
      "text/html": [
       "<div>\n",
       "<style scoped>\n",
       "    .dataframe tbody tr th:only-of-type {\n",
       "        vertical-align: middle;\n",
       "    }\n",
       "\n",
       "    .dataframe tbody tr th {\n",
       "        vertical-align: top;\n",
       "    }\n",
       "\n",
       "    .dataframe thead th {\n",
       "        text-align: right;\n",
       "    }\n",
       "</style>\n",
       "<table border=\"1\" class=\"dataframe\">\n",
       "  <thead>\n",
       "    <tr style=\"text-align: right;\">\n",
       "      <th></th>\n",
       "      <th>overallpercentofabnormalvolume</th>\n",
       "      <th>timika</th>\n",
       "      <th>large_cavity</th>\n",
       "    </tr>\n",
       "  </thead>\n",
       "  <tbody>\n",
       "    <tr>\n",
       "      <th>min</th>\n",
       "      <td>0.0</td>\n",
       "      <td>0.0</td>\n",
       "      <td>0.0</td>\n",
       "    </tr>\n",
       "    <tr>\n",
       "      <th>max</th>\n",
       "      <td>100.0</td>\n",
       "      <td>140.0</td>\n",
       "      <td>1.0</td>\n",
       "    </tr>\n",
       "  </tbody>\n",
       "</table>\n",
       "</div>"
      ],
      "text/plain": [
       "     overallpercentofabnormalvolume  timika  large_cavity\n",
       "min                             0.0     0.0           0.0\n",
       "max                           100.0   140.0           1.0"
      ]
     },
     "execution_count": 69,
     "metadata": {},
     "output_type": "execute_result"
    }
   ],
   "source": [
    "rif_resistant[['overallpercentofabnormalvolume','timika', 'large_cavity']].agg(['min','max'])"
   ]
  },
  {
   "cell_type": "markdown",
   "id": "36cad6b5",
   "metadata": {},
   "source": [
    "# Outlier removal"
   ]
  },
  {
   "cell_type": "code",
   "execution_count": 73,
   "id": "99b4716a",
   "metadata": {},
   "outputs": [],
   "source": [
    "rif_sensitive_ml_ready = rif_sensitive.loc[rif_sensitive['cxr_outlier'] == 'normal']\n",
    "rif_resistant_ml_ready = rif_resistant.loc[rif_resistant['cxr_outlier'] == 'normal']"
   ]
  },
  {
   "cell_type": "code",
   "execution_count": 74,
   "id": "f4f5dc1a",
   "metadata": {},
   "outputs": [
    {
     "data": {
      "text/plain": [
       "2368"
      ]
     },
     "execution_count": 74,
     "metadata": {},
     "output_type": "execute_result"
    }
   ],
   "source": [
    "len(rif_sensitive_ml_ready)"
   ]
  },
  {
   "cell_type": "code",
   "execution_count": 75,
   "id": "d0e819d6",
   "metadata": {},
   "outputs": [
    {
     "data": {
      "text/plain": [
       "2368"
      ]
     },
     "execution_count": 75,
     "metadata": {},
     "output_type": "execute_result"
    }
   ],
   "source": [
    "rif_sensitive_ml_ready.patient_id.nunique()"
   ]
  },
  {
   "cell_type": "code",
   "execution_count": 76,
   "id": "6c781fcc",
   "metadata": {},
   "outputs": [
    {
     "data": {
      "text/plain": [
       "2893"
      ]
     },
     "execution_count": 76,
     "metadata": {},
     "output_type": "execute_result"
    }
   ],
   "source": [
    "len(rif_resistant_ml_ready)"
   ]
  },
  {
   "cell_type": "code",
   "execution_count": 77,
   "id": "f800189a",
   "metadata": {},
   "outputs": [
    {
     "data": {
      "text/plain": [
       "2893"
      ]
     },
     "execution_count": 77,
     "metadata": {},
     "output_type": "execute_result"
    }
   ],
   "source": [
    "rif_resistant_ml_ready.patient_id.nunique()"
   ]
  }
 ],
 "metadata": {
  "kernelspec": {
   "display_name": "Python 3 (ipykernel)",
   "language": "python",
   "name": "python3"
  },
  "language_info": {
   "codemirror_mode": {
    "name": "ipython",
    "version": 3
   },
   "file_extension": ".py",
   "mimetype": "text/x-python",
   "name": "python",
   "nbconvert_exporter": "python",
   "pygments_lexer": "ipython3",
   "version": "3.7.4"
  }
 },
 "nbformat": 4,
 "nbformat_minor": 5
}
